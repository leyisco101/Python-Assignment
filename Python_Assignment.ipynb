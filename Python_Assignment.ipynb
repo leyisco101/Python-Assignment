{
  "cells": [
    {
      "cell_type": "code",
      "execution_count": null,
      "metadata": {
        "id": "kCLkSP4c-A-e"
      },
      "outputs": [],
      "source": [
        "# Assigment\n",
        "# We check in a patient named John Smith. He's 20 years old and is a new patient.\n",
        "name = \"John Smith\"\n",
        "age = 20\n",
        "is_new = True\n"
      ]
    },
    {
      "cell_type": "code",
      "execution_count": null,
      "metadata": {
        "colab": {
          "base_uri": "https://localhost:8080/"
        },
        "id": "vbIK08M693Qi",
        "outputId": "12f66497-6b53-4cfa-f48a-47eccff3008e"
      },
      "outputs": [
        {
          "name": "stdout",
          "output_type": "stream",
          "text": [
            "What is your name? Adeleye\n",
            "What is your favourite colour? Blue\n",
            "Adeleye likes Blue\n"
          ]
        }
      ],
      "source": [
        "#Assignment\n",
        "# Ask two questions: Persons name and favortite colour\n",
        "# then print a message like \"Adeleye likes blue\"\n",
        "\n",
        "name = input(\"What is your name? \")\n",
        "colour = input(\"What is your favourite colour? \")\n",
        "print(name + \" likes \" + colour)"
      ]
    },
    {
      "cell_type": "code",
      "execution_count": null,
      "metadata": {
        "colab": {
          "base_uri": "https://localhost:8080/"
        },
        "id": "_0rKccgt915g",
        "outputId": "eb4707d7-50a2-4196-d1cd-e3b9a5d4b66a"
      },
      "outputs": [
        {
          "name": "stdout",
          "output_type": "stream",
          "text": [
            "Enter your weight in pounds: 160\n",
            "72.0\n"
          ]
        }
      ],
      "source": [
        "#Assignment\n",
        "# Ask a user their weight in pounds, convert it to kilograms and print on the Terminals\n",
        "Weight = input(\"Enter your weight in pounds: \")\n",
        "kg = int(Weight) * 0.45\n",
        "print(kg)"
      ]
    },
    {
      "cell_type": "code",
      "execution_count": null,
      "metadata": {
        "colab": {
          "base_uri": "https://localhost:8080/"
        },
        "id": "C3j1MUX7905N",
        "outputId": "b07d3279-9aae-4a88-8de8-645c22eb7b2b"
      },
      "outputs": [
        {
          "name": "stdout",
          "output_type": "stream",
          "text": [
            "ennife\n"
          ]
        }
      ],
      "source": [
        "#Assigment\n",
        "name = \"Jennifer\"\n",
        "print(name[1:-1])\n"
      ]
    },
    {
      "cell_type": "code",
      "execution_count": null,
      "metadata": {
        "colab": {
          "base_uri": "https://localhost:8080/"
        },
        "id": "cWDHGJYB-TQA",
        "outputId": "265a2108-f0bc-4d2d-f76a-40d42dba0f66"
      },
      "outputs": [
        {
          "name": "stdout",
          "output_type": "stream",
          "text": [
            "47\n"
          ]
        }
      ],
      "source": [
        "#Assigment\n",
        "x = (2 + 3 ) * 10 - 3\n",
        "print(x)"
      ]
    },
    {
      "cell_type": "code",
      "source": [
        "#Assigment\n",
        "# Price of house is $1m if buyer has good credit they need to put down 10% otherwise they need to put down 20% print the down payment"
      ],
      "metadata": {
        "id": "ZAE76pD_c1S8"
      },
      "execution_count": null,
      "outputs": []
    },
    {
      "cell_type": "code",
      "execution_count": null,
      "metadata": {
        "colab": {
          "base_uri": "https://localhost:8080/"
        },
        "id": "YCqXSy2Q-Tz4",
        "outputId": "006286b2-67ce-4002-9490-b34534ad2d93"
      },
      "outputs": [
        {
          "name": "stdout",
          "output_type": "stream",
          "text": [
            "Down payment : $100000.0\n"
          ]
        }
      ],
      "source": [
        "#Assigment\n",
        "price = 1000000\n",
        "has_good_credit = True\n",
        "if has_good_credit:\n",
        "  down_payment = 0.1 * price\n",
        "else:\n",
        "  down_payment = 0.2 * price\n",
        "print(f\"Down payment : ${down_payment}\")"
      ]
    },
    {
      "cell_type": "code",
      "source": [
        "# Assigment\n",
        "# If name is less than 3 characters long name must be at least 3 characters otherwise if it's more than 50 characters long name can be a maximum of 50 characters otherwise name looks good!"
      ],
      "metadata": {
        "id": "EwPV_3u9dBJO"
      },
      "execution_count": null,
      "outputs": []
    },
    {
      "cell_type": "code",
      "execution_count": null,
      "metadata": {
        "colab": {
          "base_uri": "https://localhost:8080/"
        },
        "id": "5wRyqq1Y-T_c",
        "outputId": "149b796a-617d-44ca-826d-083f4d71035e"
      },
      "outputs": [
        {
          "name": "stdout",
          "output_type": "stream",
          "text": [
            "Enter your name: ad\n",
            "name must be atleast 3 characteristics\n"
          ]
        }
      ],
      "source": [
        "name = input(\"Enter your name: \")\n",
        "if len(name) < 3:\n",
        "     print(\"name must be atleast 3 characteristics\")\n",
        "elif len(name) > 50:\n",
        "     print(\"name can be a maximum of 50 characteristics\")\n",
        "else:\n",
        "     print(\"name looks good\")\n"
      ]
    },
    {
      "cell_type": "code",
      "source": [
        "# Assigment\n",
        "# Weight Converter\n",
        "# Ask a user their weight (in pounds), convert it to kilograms and print on the Terminals"
      ],
      "metadata": {
        "id": "IEYntlczcflg"
      },
      "execution_count": null,
      "outputs": []
    },
    {
      "cell_type": "code",
      "execution_count": null,
      "metadata": {
        "colab": {
          "base_uri": "https://localhost:8080/"
        },
        "id": "-UfXAAwR-UCk",
        "outputId": "2422e8da-fa77-481f-cfd0-570ba8454995"
      },
      "outputs": [
        {
          "name": "stdout",
          "output_type": "stream",
          "text": [
            "Weight: 72\n",
            "(L)bs or (K)g: k\n",
            "You are 160.0 pounds\n"
          ]
        }
      ],
      "source": [
        "weight =  int(input(\"Weight: \"))\n",
        "unit = input(\"(L)bs or (K)g: \")\n",
        "if unit.upper() ==\"L\":\n",
        "   converted = weight * 0.45\n",
        "   print(f\"You are {converted} kilos\")\n",
        "else:\n",
        "    converted = weight / 0.45\n",
        "    print(f\"You are {converted} pounds\")"
      ]
    },
    {
      "cell_type": "code",
      "source": [
        "# Guessing game excercise\n"
      ],
      "metadata": {
        "id": "yeQ_zPwrdJwG"
      },
      "execution_count": null,
      "outputs": []
    },
    {
      "cell_type": "code",
      "execution_count": null,
      "metadata": {
        "colab": {
          "base_uri": "https://localhost:8080/"
        },
        "id": "D_C6sLq94nEl",
        "outputId": "695f964e-a4f0-4d46-801f-989dcdc18e2a"
      },
      "outputs": [
        {
          "name": "stdout",
          "output_type": "stream",
          "text": [
            "Guess:9\n",
            "You won!\n"
          ]
        }
      ],
      "source": [
        "# While Loop\n",
        "secret_number = 9\n",
        "guess_count = 0\n",
        "guess_limit = 3\n",
        "while guess_count < guess_limit:\n",
        "    guess =  int(input(\"Guess:\"))\n",
        "    guess == secret_number\n",
        "    if guess == secret_number:\n",
        "       print(\"You won!\")\n",
        "       break\n",
        "else:\n",
        "    print(\"Sorry you failed\")"
      ]
    },
    {
      "cell_type": "code",
      "execution_count": null,
      "metadata": {
        "colab": {
          "background_save": true,
          "base_uri": "https://localhost:8080/"
        },
        "id": "vjWqhjgs7e3X",
        "outputId": "e247c797-4296-4ddd-de60-ac1bf35cd516"
      },
      "outputs": [
        {
          "name": "stdout",
          "output_type": "stream",
          "text": [
            "\n",
            "     start - to start the car\n",
            "     stop - to stop the car\n",
            "     quit - to quit\n",
            "           \n",
            "Car started....\n",
            "Car started....\n",
            "Car stopped.\n",
            "Car stopped.\n"
          ]
        }
      ],
      "source": [
        "command = \"\"\n",
        "while True:\n",
        "      command = input(\">\").lower()\n",
        "      if command == \"start\":\n",
        "         print(\"Car started....\")\n",
        "      elif command == \"stop\":\n",
        "          print(\"Car stopped.\")\n",
        "      elif command == \"help\":\n",
        "           print(\"\"\"\n",
        "     start - to start the car\n",
        "     stop - to stop the car\n",
        "     quit - to quit\n",
        "           \"\"\")\n",
        "      elif command == \"quit\":\n",
        "             break\n",
        "      else:\n",
        "          print(\"sorry i dont understand that!\")\n"
      ]
    },
    {
      "cell_type": "code",
      "source": [
        "# For loop\n",
        "prices = (10,20,30)\n",
        "total = 0\n",
        "for price in prices:\n",
        "    total += price\n",
        "print(f\" Total: {total}\")"
      ],
      "metadata": {
        "id": "vU3_43-JlnVi",
        "colab": {
          "base_uri": "https://localhost:8080/"
        },
        "outputId": "0f27bce8-76b7-4fcc-f837-8ea1f8d681f9"
      },
      "execution_count": 4,
      "outputs": [
        {
          "output_type": "stream",
          "name": "stdout",
          "text": [
            " Total: 60\n"
          ]
        }
      ]
    },
    {
      "cell_type": "code",
      "source": [
        "# Write a program to find the largest number in a list\n",
        "numbers = [4,3,5,6,7,8,4,3,6]\n",
        "max = numbers[0]\n",
        "for number in numbers:\n",
        "    if number > max:\n",
        "        max = number\n",
        "print (max)"
      ],
      "metadata": {
        "colab": {
          "base_uri": "https://localhost:8080/"
        },
        "id": "JsCjuWcIYhcw",
        "outputId": "2f1d3d4f-26fd-4352-b66e-afafc44fabfd"
      },
      "execution_count": 2,
      "outputs": [
        {
          "output_type": "stream",
          "name": "stdout",
          "text": [
            "8\n"
          ]
        }
      ]
    },
    {
      "cell_type": "code",
      "source": [
        "#LIST\n",
        "#ASS\n",
        "#Write a program to remove the duplicates in a list\n",
        "numbers = [2,2,4,6,3,4,6,1]\n",
        "uniques = []\n",
        "for number in numbers:\n",
        "   if number not in uniques:\n",
        "      uniques.append(number)\n",
        "print(uniques)\n",
        "\n"
      ],
      "metadata": {
        "colab": {
          "base_uri": "https://localhost:8080/"
        },
        "id": "FHBF9gyPjtbd",
        "outputId": "5c58de4c-6feb-4f06-a5b1-a4c717462c23"
      },
      "execution_count": 7,
      "outputs": [
        {
          "output_type": "stream",
          "name": "stdout",
          "text": [
            "[2, 4, 6, 3, 1]\n"
          ]
        }
      ]
    },
    {
      "cell_type": "code",
      "source": [
        "from string import digits\n",
        "#Dictionairies\n",
        "#ASS\n",
        "phone = input(\"Phone:\")\n",
        "digits_mapping = {\n",
        "      \"1\": \"One\",\n",
        "      \"2\": \"Two\",\n",
        "      \"3\": \"Three\",\n",
        "      \"4\": \"Four\"\n",
        "}\n",
        "output = \"\"\n",
        "for ch in phone:\n",
        "    output += digits_mapping.get(ch,\"!\") + \" \"\n",
        "print(output)\n"
      ],
      "metadata": {
        "colab": {
          "base_uri": "https://localhost:8080/"
        },
        "id": "JWtxNpoHlsqU",
        "outputId": "f59f6c5a-fd1c-49c8-9d79-7dc4e55cc14b"
      },
      "execution_count": 1,
      "outputs": [
        {
          "output_type": "stream",
          "name": "stdout",
          "text": [
            "Phone:1345\n",
            "One Three Four ! \n"
          ]
        }
      ]
    },
    {
      "cell_type": "code",
      "source": [
        "#Re -organize to a functions\n",
        "def emoji_converter(message):\n",
        "    words = message.split(' ')\n",
        "    emojis = {\n",
        "    \":)\": \"😊\",\n",
        "    \":(\": \"🙁\"\n",
        "    }\n",
        "    output = \"\"\n",
        "    for word in words:\n",
        "\n",
        "        output += emojis.get(word, word) + \" \"\n",
        "    return output\n",
        "\n",
        "\n",
        "message = input(\">\")\n",
        "print(emoji_converter(message))\n"
      ],
      "metadata": {
        "colab": {
          "base_uri": "https://localhost:8080/"
        },
        "id": "m4OQ2MkSq2Gm",
        "outputId": "2eb025a8-445a-4961-dbb2-760ff21feed1"
      },
      "execution_count": 3,
      "outputs": [
        {
          "output_type": "stream",
          "name": "stdout",
          "text": [
            ">I am sad\n",
            "I am sad \n"
          ]
        }
      ]
    },
    {
      "cell_type": "code",
      "source": [
        "#Point clas\n",
        "# Person -name -talk\n",
        "class Person:\n",
        "    def __init__(self, name): # constructor\n",
        "        self.name = name\n",
        "\n",
        "    def talk(self):\n",
        "        print(f\"Hi, I am {self.name}\")\n",
        "\n",
        "john = Person(\"John Smith\")\n",
        "john.talk()\n",
        "\n",
        "bob = Person(\"Bob Smith\")\n",
        "bob.talk()\n"
      ],
      "metadata": {
        "colab": {
          "base_uri": "https://localhost:8080/"
        },
        "id": "rBvinSR0ehgc",
        "outputId": "38508b85-b30c-4589-b5fa-f8f056687590"
      },
      "execution_count": 4,
      "outputs": [
        {
          "output_type": "stream",
          "name": "stdout",
          "text": [
            "Hi, I am John Smith\n",
            "Hi, I am Bob Smith\n"
          ]
        }
      ]
    },
    {
      "cell_type": "code",
      "source": [
        "# Reform this into  functions,  classes,  Modules\n",
        "\n",
        "numbers = [10,3,6,2]\n",
        "max = numbers[0]\n",
        "for number in numbers:\n",
        "    if number > max:\n",
        "    max = number\n",
        "print(max)\n"
      ],
      "metadata": {
        "id": "y-lMJyR91Tnl"
      },
      "execution_count": null,
      "outputs": []
    },
    {
      "cell_type": "code",
      "source": [
        "def find_max(numbers):\n",
        "    maximum = numbers[0]  # use a name other than 'max' to avoid shadowing the built-in function\n",
        "    for number in numbers:\n",
        "        if number > maximum:\n",
        "            maximum = number\n",
        "    return maximum\n",
        "\n",
        "# Test\n",
        "numbers = [10, 3, 6, 2]\n",
        "print(find_max(numbers))  # Output: 10\n",
        "\n"
      ],
      "metadata": {
        "colab": {
          "base_uri": "https://localhost:8080/"
        },
        "id": "Z9cuvs6XzUaw",
        "outputId": "813b3941-986e-4a40-ca4d-313cb454323f"
      },
      "execution_count": 9,
      "outputs": [
        {
          "output_type": "stream",
          "name": "stdout",
          "text": [
            "10\n"
          ]
        }
      ]
    }
  ],
  "metadata": {
    "colab": {
      "provenance": []
    },
    "kernelspec": {
      "display_name": "Python 3",
      "name": "python3"
    },
    "language_info": {
      "name": "python"
    }
  },
  "nbformat": 4,
  "nbformat_minor": 0
}